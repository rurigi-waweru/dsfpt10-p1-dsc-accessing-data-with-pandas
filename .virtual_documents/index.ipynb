


import pandas as pd





from sklearn.datasets import load_wine

data = load_wine()
df = pd.DataFrame(data.data, columns=data.feature_names)





# print(df)
df.head(3)











type(df)


# grit executions
# df.index # RangeIndex(start=0, stop=178, step=1)
# df.columns # Index(['alcohol', 'malic_acid', ... 'proline'],      dtype='object')
# df.dtypes # alcohol                         float64 ...etc
df.shape # (178, 13)











# First 5 rows of df
df.head()


# last 3 rows of df
df.tail(3)





df.info()








df.index





df.columns





df.dtypes





df.shape














df.iloc[3]





df.iloc[5:8]





df.iloc[:, 3:7]





df.iloc[5:10, 3:9]











df.loc[:, 'magnesium']





df.loc[7:16, 'magnesium']








df.loc[df['alcohol'] < 12]
# OR
df.loc[(df['alcohol'] < 12)]








df.loc[df['alcohol'] < 12, ['color_intensity']]








# Let's save our color intensity dataframe into an object col_intensity
col_intensity = df['color_intensity']


type(col_intensity)








col_intensity[0:3]


# Or col_intensity.loc[col_intensity > 8]
col_intensity[col_intensity > 8] 











df.loc[df['color_intensity'] > 10, 'color_intensity'] = 10








df.loc[df['color_intensity'] > 7, 'shade'] = 'dark'
df.loc[df['color_intensity'] <= 7, 'shade'] = 'light'
df.columns


df.head(2)





df.shape



